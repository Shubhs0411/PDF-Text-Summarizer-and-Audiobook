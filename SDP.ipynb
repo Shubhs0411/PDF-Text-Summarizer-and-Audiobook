{
  "nbformat": 4,
  "nbformat_minor": 0,
  "metadata": {
    "accelerator": "GPU",
    "colab": {
      "name": "SDP.ipynb",
      "provenance": [],
      "collapsed_sections": []
    },
    "kernelspec": {
      "display_name": "Python 3",
      "name": "python3"
    }
  },
  "cells": [
    {
      "cell_type": "code",
      "metadata": {
        "colab": {
          "base_uri": "https://localhost:8080/"
        },
        "id": "j93ThoS0oyPi",
        "outputId": "9ebc1bcf-77e6-47e6-d93b-56d22292d6c4"
      },
      "source": [
        "!pip install bert-extractive-summarizer"
      ],
      "execution_count": null,
      "outputs": [
        {
          "output_type": "stream",
          "text": [
            "Requirement already satisfied: bert-extractive-summarizer in /usr/local/lib/python3.6/dist-packages (0.6.1)\n",
            "Requirement already satisfied: scikit-learn in /usr/local/lib/python3.6/dist-packages (from bert-extractive-summarizer) (0.22.2.post1)\n",
            "Requirement already satisfied: transformers in /usr/local/lib/python3.6/dist-packages (from bert-extractive-summarizer) (2.2.0)\n",
            "Requirement already satisfied: spacy in /usr/local/lib/python3.6/dist-packages (from bert-extractive-summarizer) (2.0.12)\n",
            "Requirement already satisfied: scipy>=0.17.0 in /usr/local/lib/python3.6/dist-packages (from scikit-learn->bert-extractive-summarizer) (1.4.1)\n",
            "Requirement already satisfied: numpy>=1.11.0 in /usr/local/lib/python3.6/dist-packages (from scikit-learn->bert-extractive-summarizer) (1.19.4)\n",
            "Requirement already satisfied: joblib>=0.11 in /usr/local/lib/python3.6/dist-packages (from scikit-learn->bert-extractive-summarizer) (1.0.0)\n",
            "Requirement already satisfied: regex in /usr/local/lib/python3.6/dist-packages (from transformers->bert-extractive-summarizer) (2017.4.5)\n",
            "Requirement already satisfied: tqdm in /usr/local/lib/python3.6/dist-packages (from transformers->bert-extractive-summarizer) (4.41.1)\n",
            "Requirement already satisfied: sacremoses in /usr/local/lib/python3.6/dist-packages (from transformers->bert-extractive-summarizer) (0.0.43)\n",
            "Requirement already satisfied: boto3 in /usr/local/lib/python3.6/dist-packages (from transformers->bert-extractive-summarizer) (1.16.45)\n",
            "Requirement already satisfied: requests in /usr/local/lib/python3.6/dist-packages (from transformers->bert-extractive-summarizer) (2.23.0)\n",
            "Requirement already satisfied: sentencepiece in /usr/local/lib/python3.6/dist-packages (from transformers->bert-extractive-summarizer) (0.1.94)\n",
            "Requirement already satisfied: murmurhash<0.29,>=0.28 in /usr/local/lib/python3.6/dist-packages (from spacy->bert-extractive-summarizer) (0.28.0)\n",
            "Requirement already satisfied: preshed<2.0.0,>=1.0.0 in /usr/local/lib/python3.6/dist-packages (from spacy->bert-extractive-summarizer) (1.0.1)\n",
            "Requirement already satisfied: ujson>=1.35 in /usr/local/lib/python3.6/dist-packages (from spacy->bert-extractive-summarizer) (4.0.1)\n",
            "Requirement already satisfied: cymem<1.32,>=1.30 in /usr/local/lib/python3.6/dist-packages (from spacy->bert-extractive-summarizer) (1.31.2)\n",
            "Requirement already satisfied: thinc<6.11.0,>=6.10.3 in /usr/local/lib/python3.6/dist-packages (from spacy->bert-extractive-summarizer) (6.10.3)\n",
            "Requirement already satisfied: dill<0.3,>=0.2 in /usr/local/lib/python3.6/dist-packages (from spacy->bert-extractive-summarizer) (0.2.9)\n",
            "Requirement already satisfied: plac<1.0.0,>=0.9.6 in /usr/local/lib/python3.6/dist-packages (from spacy->bert-extractive-summarizer) (0.9.6)\n",
            "Requirement already satisfied: click in /usr/local/lib/python3.6/dist-packages (from sacremoses->transformers->bert-extractive-summarizer) (7.1.2)\n",
            "Requirement already satisfied: six in /usr/local/lib/python3.6/dist-packages (from sacremoses->transformers->bert-extractive-summarizer) (1.15.0)\n",
            "Requirement already satisfied: jmespath<1.0.0,>=0.7.1 in /usr/local/lib/python3.6/dist-packages (from boto3->transformers->bert-extractive-summarizer) (0.10.0)\n",
            "Requirement already satisfied: botocore<1.20.0,>=1.19.45 in /usr/local/lib/python3.6/dist-packages (from boto3->transformers->bert-extractive-summarizer) (1.19.45)\n",
            "Requirement already satisfied: s3transfer<0.4.0,>=0.3.0 in /usr/local/lib/python3.6/dist-packages (from boto3->transformers->bert-extractive-summarizer) (0.3.3)\n",
            "Requirement already satisfied: urllib3!=1.25.0,!=1.25.1,<1.26,>=1.21.1 in /usr/local/lib/python3.6/dist-packages (from requests->transformers->bert-extractive-summarizer) (1.24.3)\n",
            "Requirement already satisfied: idna<3,>=2.5 in /usr/local/lib/python3.6/dist-packages (from requests->transformers->bert-extractive-summarizer) (2.10)\n",
            "Requirement already satisfied: chardet<4,>=3.0.2 in /usr/local/lib/python3.6/dist-packages (from requests->transformers->bert-extractive-summarizer) (3.0.4)\n",
            "Requirement already satisfied: certifi>=2017.4.17 in /usr/local/lib/python3.6/dist-packages (from requests->transformers->bert-extractive-summarizer) (2020.12.5)\n",
            "Requirement already satisfied: cytoolz<0.10,>=0.9.0 in /usr/local/lib/python3.6/dist-packages (from thinc<6.11.0,>=6.10.3->spacy->bert-extractive-summarizer) (0.9.0.1)\n",
            "Requirement already satisfied: wrapt<1.11.0,>=1.10.0 in /usr/local/lib/python3.6/dist-packages (from thinc<6.11.0,>=6.10.3->spacy->bert-extractive-summarizer) (1.10.11)\n",
            "Requirement already satisfied: msgpack-numpy<1.0.0,>=0.4.1 in /usr/local/lib/python3.6/dist-packages (from thinc<6.11.0,>=6.10.3->spacy->bert-extractive-summarizer) (0.4.7.1)\n",
            "Requirement already satisfied: msgpack<1.0.0,>=0.5.6 in /usr/local/lib/python3.6/dist-packages (from thinc<6.11.0,>=6.10.3->spacy->bert-extractive-summarizer) (0.6.2)\n",
            "Requirement already satisfied: python-dateutil<3.0.0,>=2.1 in /usr/local/lib/python3.6/dist-packages (from botocore<1.20.0,>=1.19.45->boto3->transformers->bert-extractive-summarizer) (2.8.1)\n",
            "Requirement already satisfied: toolz>=0.8.0 in /usr/local/lib/python3.6/dist-packages (from cytoolz<0.10,>=0.9.0->thinc<6.11.0,>=6.10.3->spacy->bert-extractive-summarizer) (0.11.1)\n"
          ],
          "name": "stdout"
        }
      ]
    },
    {
      "cell_type": "code",
      "metadata": {
        "colab": {
          "base_uri": "https://localhost:8080/"
        },
        "id": "RsUc4Mi2o12Y",
        "outputId": "e5c4c3c7-50c2-4266-c862-1c89b9617684"
      },
      "source": [
        "!pip install transformers==2.2.0"
      ],
      "execution_count": null,
      "outputs": [
        {
          "output_type": "stream",
          "text": [
            "Requirement already satisfied: transformers==2.2.0 in /usr/local/lib/python3.6/dist-packages (2.2.0)\n",
            "Requirement already satisfied: regex in /usr/local/lib/python3.6/dist-packages (from transformers==2.2.0) (2017.4.5)\n",
            "Requirement already satisfied: numpy in /usr/local/lib/python3.6/dist-packages (from transformers==2.2.0) (1.19.4)\n",
            "Requirement already satisfied: sacremoses in /usr/local/lib/python3.6/dist-packages (from transformers==2.2.0) (0.0.43)\n",
            "Requirement already satisfied: requests in /usr/local/lib/python3.6/dist-packages (from transformers==2.2.0) (2.23.0)\n",
            "Requirement already satisfied: tqdm in /usr/local/lib/python3.6/dist-packages (from transformers==2.2.0) (4.41.1)\n",
            "Requirement already satisfied: boto3 in /usr/local/lib/python3.6/dist-packages (from transformers==2.2.0) (1.16.45)\n",
            "Requirement already satisfied: sentencepiece in /usr/local/lib/python3.6/dist-packages (from transformers==2.2.0) (0.1.94)\n",
            "Requirement already satisfied: joblib in /usr/local/lib/python3.6/dist-packages (from sacremoses->transformers==2.2.0) (1.0.0)\n",
            "Requirement already satisfied: six in /usr/local/lib/python3.6/dist-packages (from sacremoses->transformers==2.2.0) (1.15.0)\n",
            "Requirement already satisfied: click in /usr/local/lib/python3.6/dist-packages (from sacremoses->transformers==2.2.0) (7.1.2)\n",
            "Requirement already satisfied: idna<3,>=2.5 in /usr/local/lib/python3.6/dist-packages (from requests->transformers==2.2.0) (2.10)\n",
            "Requirement already satisfied: certifi>=2017.4.17 in /usr/local/lib/python3.6/dist-packages (from requests->transformers==2.2.0) (2020.12.5)\n",
            "Requirement already satisfied: urllib3!=1.25.0,!=1.25.1,<1.26,>=1.21.1 in /usr/local/lib/python3.6/dist-packages (from requests->transformers==2.2.0) (1.24.3)\n",
            "Requirement already satisfied: chardet<4,>=3.0.2 in /usr/local/lib/python3.6/dist-packages (from requests->transformers==2.2.0) (3.0.4)\n",
            "Requirement already satisfied: s3transfer<0.4.0,>=0.3.0 in /usr/local/lib/python3.6/dist-packages (from boto3->transformers==2.2.0) (0.3.3)\n",
            "Requirement already satisfied: botocore<1.20.0,>=1.19.45 in /usr/local/lib/python3.6/dist-packages (from boto3->transformers==2.2.0) (1.19.45)\n",
            "Requirement already satisfied: jmespath<1.0.0,>=0.7.1 in /usr/local/lib/python3.6/dist-packages (from boto3->transformers==2.2.0) (0.10.0)\n",
            "Requirement already satisfied: python-dateutil<3.0.0,>=2.1 in /usr/local/lib/python3.6/dist-packages (from botocore<1.20.0,>=1.19.45->boto3->transformers==2.2.0) (2.8.1)\n"
          ],
          "name": "stdout"
        }
      ]
    },
    {
      "cell_type": "code",
      "metadata": {
        "colab": {
          "base_uri": "https://localhost:8080/"
        },
        "id": "cK-rVlago1zh",
        "outputId": "3b2e7855-2183-44ba-de7c-caebb522e00b"
      },
      "source": [
        "!pip install spacy==2.0.12"
      ],
      "execution_count": null,
      "outputs": [
        {
          "output_type": "stream",
          "text": [
            "Requirement already satisfied: spacy==2.0.12 in /usr/local/lib/python3.6/dist-packages (2.0.12)\n",
            "Requirement already satisfied: regex==2017.4.5 in /usr/local/lib/python3.6/dist-packages (from spacy==2.0.12) (2017.4.5)\n",
            "Requirement already satisfied: preshed<2.0.0,>=1.0.0 in /usr/local/lib/python3.6/dist-packages (from spacy==2.0.12) (1.0.1)\n",
            "Requirement already satisfied: dill<0.3,>=0.2 in /usr/local/lib/python3.6/dist-packages (from spacy==2.0.12) (0.2.9)\n",
            "Requirement already satisfied: requests<3.0.0,>=2.13.0 in /usr/local/lib/python3.6/dist-packages (from spacy==2.0.12) (2.23.0)\n",
            "Requirement already satisfied: murmurhash<0.29,>=0.28 in /usr/local/lib/python3.6/dist-packages (from spacy==2.0.12) (0.28.0)\n",
            "Requirement already satisfied: cymem<1.32,>=1.30 in /usr/local/lib/python3.6/dist-packages (from spacy==2.0.12) (1.31.2)\n",
            "Requirement already satisfied: numpy>=1.7 in /usr/local/lib/python3.6/dist-packages (from spacy==2.0.12) (1.19.4)\n",
            "Requirement already satisfied: ujson>=1.35 in /usr/local/lib/python3.6/dist-packages (from spacy==2.0.12) (4.0.1)\n",
            "Requirement already satisfied: plac<1.0.0,>=0.9.6 in /usr/local/lib/python3.6/dist-packages (from spacy==2.0.12) (0.9.6)\n",
            "Requirement already satisfied: thinc<6.11.0,>=6.10.3 in /usr/local/lib/python3.6/dist-packages (from spacy==2.0.12) (6.10.3)\n",
            "Requirement already satisfied: idna<3,>=2.5 in /usr/local/lib/python3.6/dist-packages (from requests<3.0.0,>=2.13.0->spacy==2.0.12) (2.10)\n",
            "Requirement already satisfied: certifi>=2017.4.17 in /usr/local/lib/python3.6/dist-packages (from requests<3.0.0,>=2.13.0->spacy==2.0.12) (2020.12.5)\n",
            "Requirement already satisfied: chardet<4,>=3.0.2 in /usr/local/lib/python3.6/dist-packages (from requests<3.0.0,>=2.13.0->spacy==2.0.12) (3.0.4)\n",
            "Requirement already satisfied: urllib3!=1.25.0,!=1.25.1,<1.26,>=1.21.1 in /usr/local/lib/python3.6/dist-packages (from requests<3.0.0,>=2.13.0->spacy==2.0.12) (1.24.3)\n",
            "Requirement already satisfied: tqdm<5.0.0,>=4.10.0 in /usr/local/lib/python3.6/dist-packages (from thinc<6.11.0,>=6.10.3->spacy==2.0.12) (4.41.1)\n",
            "Requirement already satisfied: six<2.0.0,>=1.10.0 in /usr/local/lib/python3.6/dist-packages (from thinc<6.11.0,>=6.10.3->spacy==2.0.12) (1.15.0)\n",
            "Requirement already satisfied: msgpack-numpy<1.0.0,>=0.4.1 in /usr/local/lib/python3.6/dist-packages (from thinc<6.11.0,>=6.10.3->spacy==2.0.12) (0.4.7.1)\n",
            "Requirement already satisfied: msgpack<1.0.0,>=0.5.6 in /usr/local/lib/python3.6/dist-packages (from thinc<6.11.0,>=6.10.3->spacy==2.0.12) (0.6.2)\n",
            "Requirement already satisfied: cytoolz<0.10,>=0.9.0 in /usr/local/lib/python3.6/dist-packages (from thinc<6.11.0,>=6.10.3->spacy==2.0.12) (0.9.0.1)\n",
            "Requirement already satisfied: wrapt<1.11.0,>=1.10.0 in /usr/local/lib/python3.6/dist-packages (from thinc<6.11.0,>=6.10.3->spacy==2.0.12) (1.10.11)\n",
            "Requirement already satisfied: toolz>=0.8.0 in /usr/local/lib/python3.6/dist-packages (from cytoolz<0.10,>=0.9.0->thinc<6.11.0,>=6.10.3->spacy==2.0.12) (0.11.1)\n"
          ],
          "name": "stdout"
        }
      ]
    },
    {
      "cell_type": "code",
      "metadata": {
        "id": "xHwqJvuRo1wx"
      },
      "source": [
        "from summarizer import Summarizer,TransformerSummarizer"
      ],
      "execution_count": null,
      "outputs": []
    },
    {
      "cell_type": "code",
      "metadata": {
        "id": "-A6UQUweo1tx"
      },
      "source": [
        "body=''' ®\r\n",
        " \r\n",
        " P\r\n",
        " fe\r\n",
        " \r\n",
        " A Promising Path Towards\r\n",
        " Autoformalization and General Artificial\r\n",
        " \r\n",
        " Intelligence\r\n",
        " \r\n",
        " Christian Szegedy (©)\r\n",
        " \r\n",
        " Google Research, Mountain View, CA, USA\r\n",
        " szegedy@google. con\r\n",
        " \r\n",
        " Abstract. An autoformalization system is an Al that learns to read natural language content and to turn it into an abstract, machine ver- iflable formalization, ideally by bootstrapping from unlabeled training\r\n",
        " data with minimum human interaction. This is a difficult task in gen- eral, one that would require strong automated reasoning and automated natural language processing capabilities. In this paper, it is argued that autoformalization is a promising path for systems to learn sophisticated, general purpose reasoning in all domains of mathematics and computer science. This could have far reaching implications not just for mathemat- ical research, but also for software synthesis. Here I provide the outline for a realistic path towards those goals and give a survey of recent results that support the feasibility of this direction.\r\n",
        " \r\n",
        " 1 Introduction\r\n",
        " \r\n",
        " Today, AI systems are able to learn solving tasks that used to be thought of taking uniquely human capabilities until recently: computer vision [16], gener- ating artistic images [13], music [21], mastering the game of go [13], discovering novel drugs [15] and performing symbolic integration (31), to name just a few.\r\n",
        " These and many other domains seemed to require uniquely human intuition and insight, but were transformed by deep learning in the past few years. While progress has been extremely impressive in those areas, each particular solution addresses a relatively narrow use case. On the other hand, general reasoning still seems a uniquely human feat and many [20] would argue that creating Al agents with general reasoning capabilities equaling to those of humans would take decades, maybe centuries, if possible at all.\r\n",
        " \r\n",
        " This invited paper argues that in the coming years we will see automated systems to rival humans in general reasoning and the fastest path to achieve this is by creating automated mathematical reasoning systems via autoformalization.\r\n",
        " \r\n",
        " Here, I give an overview of the hurdles involved, a realistic path ahead and indications on the feasibility of that path.\r\n",
        " \r\n",
        " Mathematics is the discipline of pure reasoning. Mathematical reasoning is not about mathematics per se, it is about reasoning in general. Whether to verify \r\n",
        " \r\n",
        " \r\n",
        " \r\n",
        " \r\n",
        " © Springer Nature Switzerland AG 2020\r\n",
        " C. Benzmiller and B. Miller (Rds: Ci\r\n",
        " \r\n",
        " 2020, LNAL 12236, pp. 3-20, 2020.\r\n",
        " \r\n",
        " \r\n",
        " \r\n",
        " \r\n",
        " a C. Szegedy\r\n",
        " \r\n",
        " the correctness or resource use of a computer program or to derive the conse- quences of a physical model, it is all mathematical reasoning, as long as it is based on fully formalized premises and transformation rules. Some tasks may require such a large number of logical steps that humans find it impossible to check them manually, but often they are easily solved by SAT-solvers [5] - pro- grams whose sole goal is to decide if a Boolean expression can ever evaluate to true.\r\n",
        " \r\n",
        " For certain classes of expressions, like those that occur frequently in chip design, SAT solvers work remarkably well [10]. An extreme demonstration of their power is their use in the computer generated proof of a previously unsolved famous conjecture in mathematics [25] ~ the Boolean Pythagorean triples prob- lem. The final proof was 200 terabytes long.\r\n",
        " \r\n",
        " However, SAT-solvers cannot verify statements about infinitely many cases.\r\n",
        " For example, they can't even verify that the addition of integer numbers is com- mutative. There are automated theorem provers (ATPs [L1]) for finding moder- ately difficult proofs in first order logic that can deal with such problems. Proof automation via \"hammers\" (6,27) is also applied for higher order logic as well in the context of interactive theorem proving. Most existing proof automation is based on hand engineered heuristics, not on machine learning and is not capable of open-ended self-improvement.\r\n",
        " \r\n",
        " Mathematical reasoning is just reasoning about anything specified formally.\r\n",
        " Reasoning about anything formal could be a powerful general tool. If we want to create an artificially intelligent system and demonstrate its general intelligence, it should be able to reason about any area of mathematics or at least it should be able to learn to do so given enough time. If it succeeds in practice, then we can be convinced that it is likely that it will be able to learn to cope with any scientific discipline as far as it can be formalized precisely.\r\n",
        " \r\n",
        " Human mathematics consists of a large variety of loosely connected domains, each of them having its own flavor of proofs, arguments and intuition. Human mathematicians spend years studying just to become experts in a few of those domains. An artificial system engineered to produce strong results in a particular area is not a \"general purpose\" reasoning engine. However, if a system demon- strates that it can learn to reason in any area it is exposed to, then that would be a convincing demonstration of artificial general intelligence.\r\n",
        " \r\n",
        " Therefore it is natural to ask: Will we ever arrive at the point where an Al agent can learn to do reasoning as well as the best humans in the world in most established domains of mathematics.\r\n",
        " \r\n",
        " \r\n",
        " \r\n",
        " \r\n",
        " \r\n",
        " \r\n",
        " \r\n",
        " 2 - What is (Auto-)formalization?\r\n",
        " \r\n",
        " The task of formalization is to turn informal descriptions into some formally correct and automatically checkable format. Examples of mathematical formal-\r\n",
        " ization include the formal proofs of the Kepler conjecture [22], the Four-Color theorem [16] and the Feit-Thompson theorem [17]. These formalization works required a lot of human effort. For example the formalization of the Kepler con- jecture took over 20 man-years of work. The aim of autoformalization would be \r\n",
        " '''"
      ],
      "execution_count": null,
      "outputs": []
    },
    {
      "cell_type": "code",
      "metadata": {
        "colab": {
          "base_uri": "https://localhost:8080/"
        },
        "id": "4l8-4Hloo1rA",
        "outputId": "8d26dfdd-6bcf-4c84-d3e3-a8247c410368"
      },
      "source": [
        "bert_model = Summarizer()\r\n",
        "bert_summary = ''.join(bert_model(body, min_length=200))\r\n",
        "print(bert_summary)"
      ],
      "execution_count": null,
      "outputs": [
        {
          "output_type": "stream",
          "text": [
            "An autoformalization system is an Al that learns to read natural language content and to turn it into an abstract, machine ver- iflable formalization, ideally by bootstrapping from unlabeled training\n",
            " data with minimum human interaction. This invited paper argues that in the coming years we will see automated systems to rival humans in general reasoning and the fastest path to achieve this is by creating automated mathematical reasoning systems via autoformalization.\n"
          ],
          "name": "stdout"
        }
      ]
    },
    {
      "cell_type": "code",
      "metadata": {
        "colab": {
          "base_uri": "https://localhost:8080/"
        },
        "id": "I-zHEJx6o1lB",
        "outputId": "9c7a780f-45d6-4301-bd42-42576f9918d9"
      },
      "source": [
        "GPT2_model = TransformerSummarizer(transformer_type=\"GPT2\",transformer_model_key=\"gpt2-medium\")\r\n",
        "full = ''.join(GPT2_model(body, min_length=200))\r\n",
        "print(full)"
      ],
      "execution_count": null,
      "outputs": [
        {
          "output_type": "stream",
          "text": [
            "An autoformalization system is an Al that learns to read natural language content and to turn it into an abstract, machine ver- iflable formalization, ideally by bootstrapping from unlabeled training\n",
            " data with minimum human interaction. Some tasks may require such a large number of logical steps that humans find it impossible to check them manually, but often they are easily solved by SAT-solvers [5] - pro- grams whose sole goal is to decide if a Boolean expression can ever evaluate to true.\n"
          ],
          "name": "stdout"
        }
      ]
    },
    {
      "cell_type": "code",
      "metadata": {
        "id": "EAqvbR-Eo1ig",
        "colab": {
          "base_uri": "https://localhost:8080/"
        },
        "outputId": "fe6eae09-bcef-43a0-c9fe-86523416f203"
      },
      "source": [
        "model = TransformerSummarizer(transformer_type=\"XLNet\",transformer_model_key=\"xlnet-base-cased\")\r\n",
        "full = ''.join(model(body, min_length=200))\r\n",
        "print(full)"
      ],
      "execution_count": null,
      "outputs": [
        {
          "output_type": "stream",
          "text": [
            "An autoformalization system is an Al that learns to read natural language content and to turn it into an abstract, machine ver- iflable formalization, ideally by bootstrapping from unlabeled training\n",
            " data with minimum human interaction. Some tasks may require such a large number of logical steps that humans find it impossible to check them manually, but often they are easily solved by SAT-solvers [5] - pro- grams whose sole goal is to decide if a Boolean expression can ever evaluate to true.\n"
          ],
          "name": "stdout"
        }
      ]
    }
  ]
}