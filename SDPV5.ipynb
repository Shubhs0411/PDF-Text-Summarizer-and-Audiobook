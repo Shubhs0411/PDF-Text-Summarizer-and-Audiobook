{
 "cells": [
  {
   "cell_type": "code",
   "execution_count": 1,
   "metadata": {},
   "outputs": [
    {
     "name": "stdout",
     "output_type": "stream",
     "text": [
      "Collecting bert-extractive-summarizer\n",
      "  Downloading bert_extractive_summarizer-0.5.2-py3-none-any.whl (17 kB)\n",
      "Requirement already satisfied: scikit-learn in c:\\users\\hp\\anaconda3\\lib\\site-packages (from bert-extractive-summarizer) (0.20.3)\n",
      "Requirement already satisfied: spacy in c:\\users\\hp\\anaconda3\\lib\\site-packages (from bert-extractive-summarizer) (2.2.0)\n",
      "Requirement already satisfied: scipy>=0.13.3 in c:\\users\\hp\\anaconda3\\lib\\site-packages (from scikit-learn->bert-extractive-summarizer) (1.4.1)\n",
      "Requirement already satisfied: numpy>=1.8.2 in c:\\users\\hp\\appdata\\roaming\\python\\python37\\site-packages (from scikit-learn->bert-extractive-summarizer) (1.18.5)\n",
      "Requirement already satisfied: numpy>=1.8.2 in c:\\users\\hp\\appdata\\roaming\\python\\python37\\site-packages (from scikit-learn->bert-extractive-summarizer) (1.18.5)\n",
      "Requirement already satisfied: murmurhash<1.1.0,>=0.28.0 in c:\\users\\hp\\anaconda3\\lib\\site-packages (from spacy->bert-extractive-summarizer) (1.0.2)\n",
      "Requirement already satisfied: blis<0.5.0,>=0.4.0 in c:\\users\\hp\\anaconda3\\lib\\site-packages (from spacy->bert-extractive-summarizer) (0.4.1)\n",
      "Requirement already satisfied: cymem<2.1.0,>=2.0.2 in c:\\users\\hp\\anaconda3\\lib\\site-packages (from spacy->bert-extractive-summarizer) (2.0.3)\n",
      "Requirement already satisfied: wasabi<1.1.0,>=0.2.0 in c:\\users\\hp\\anaconda3\\lib\\site-packages (from spacy->bert-extractive-summarizer) (0.8.0)\n",
      "Requirement already satisfied: numpy>=1.8.2 in c:\\users\\hp\\appdata\\roaming\\python\\python37\\site-packages (from scikit-learn->bert-extractive-summarizer) (1.18.5)\n",
      "Requirement already satisfied: thinc<7.2.0,>=7.1.1 in c:\\users\\hp\\anaconda3\\lib\\site-packages (from spacy->bert-extractive-summarizer) (7.1.1)\n",
      "Requirement already satisfied: plac<1.0.0,>=0.9.6 in c:\\users\\hp\\anaconda3\\lib\\site-packages (from spacy->bert-extractive-summarizer) (0.9.6)\n",
      "Requirement already satisfied: srsly<1.1.0,>=0.1.0 in c:\\users\\hp\\anaconda3\\lib\\site-packages (from spacy->bert-extractive-summarizer) (1.0.2)\n",
      "Requirement already satisfied: requests<3.0.0,>=2.13.0 in c:\\users\\hp\\anaconda3\\lib\\site-packages (from spacy->bert-extractive-summarizer) (2.21.0)\n",
      "Requirement already satisfied: preshed<3.1.0,>=3.0.2 in c:\\users\\hp\\anaconda3\\lib\\site-packages (from spacy->bert-extractive-summarizer) (3.0.2)\n",
      "Requirement already satisfied: numpy>=1.8.2 in c:\\users\\hp\\appdata\\roaming\\python\\python37\\site-packages (from scikit-learn->bert-extractive-summarizer) (1.18.5)\n",
      "Requirement already satisfied: murmurhash<1.1.0,>=0.28.0 in c:\\users\\hp\\anaconda3\\lib\\site-packages (from spacy->bert-extractive-summarizer) (1.0.2)\n",
      "Requirement already satisfied: cymem<2.1.0,>=2.0.2 in c:\\users\\hp\\anaconda3\\lib\\site-packages (from spacy->bert-extractive-summarizer) (2.0.3)\n",
      "Requirement already satisfied: certifi>=2017.4.17 in c:\\users\\hp\\anaconda3\\lib\\site-packages (from requests<3.0.0,>=2.13.0->spacy->bert-extractive-summarizer) (2020.6.20)\n",
      "Requirement already satisfied: idna<2.9,>=2.5 in c:\\users\\hp\\anaconda3\\lib\\site-packages (from requests<3.0.0,>=2.13.0->spacy->bert-extractive-summarizer) (2.8)\n",
      "Requirement already satisfied: urllib3<1.25,>=1.21.1 in c:\\users\\hp\\anaconda3\\lib\\site-packages (from requests<3.0.0,>=2.13.0->spacy->bert-extractive-summarizer) (1.24.3)\n",
      "Requirement already satisfied: chardet<3.1.0,>=3.0.2 in c:\\users\\hp\\anaconda3\\lib\\site-packages (from requests<3.0.0,>=2.13.0->spacy->bert-extractive-summarizer) (3.0.4)\n",
      "Requirement already satisfied: murmurhash<1.1.0,>=0.28.0 in c:\\users\\hp\\anaconda3\\lib\\site-packages (from spacy->bert-extractive-summarizer) (1.0.2)\n",
      "Requirement already satisfied: blis<0.5.0,>=0.4.0 in c:\\users\\hp\\anaconda3\\lib\\site-packages (from spacy->bert-extractive-summarizer) (0.4.1)\n",
      "Requirement already satisfied: cymem<2.1.0,>=2.0.2 in c:\\users\\hp\\anaconda3\\lib\\site-packages (from spacy->bert-extractive-summarizer) (2.0.3)\n",
      "Requirement already satisfied: numpy>=1.8.2 in c:\\users\\hp\\appdata\\roaming\\python\\python37\\site-packages (from scikit-learn->bert-extractive-summarizer) (1.18.5)\n",
      "Requirement already satisfied: wasabi<1.1.0,>=0.2.0 in c:\\users\\hp\\anaconda3\\lib\\site-packages (from spacy->bert-extractive-summarizer) (0.8.0)\n",
      "Requirement already satisfied: plac<1.0.0,>=0.9.6 in c:\\users\\hp\\anaconda3\\lib\\site-packages (from spacy->bert-extractive-summarizer) (0.9.6)\n",
      "Requirement already satisfied: tqdm<5.0.0,>=4.10.0 in c:\\users\\hp\\anaconda3\\lib\\site-packages (from thinc<7.2.0,>=7.1.1->spacy->bert-extractive-summarizer) (4.31.1)\n",
      "Requirement already satisfied: srsly<1.1.0,>=0.1.0 in c:\\users\\hp\\anaconda3\\lib\\site-packages (from spacy->bert-extractive-summarizer) (1.0.2)\n",
      "Requirement already satisfied: preshed<3.1.0,>=3.0.2 in c:\\users\\hp\\anaconda3\\lib\\site-packages (from spacy->bert-extractive-summarizer) (3.0.2)\n",
      "Collecting transformers\n",
      "  Downloading transformers-4.1.1-py3-none-any.whl (1.5 MB)\n",
      "Requirement already satisfied: packaging in c:\\users\\hp\\anaconda3\\lib\\site-packages (from transformers->bert-extractive-summarizer) (19.0)\n",
      "Requirement already satisfied: requests<3.0.0,>=2.13.0 in c:\\users\\hp\\anaconda3\\lib\\site-packages (from spacy->bert-extractive-summarizer) (2.21.0)\n",
      "Requirement already satisfied: filelock in c:\\users\\hp\\anaconda3\\lib\\site-packages (from transformers->bert-extractive-summarizer) (3.0.10)\n",
      "Requirement already satisfied: numpy>=1.8.2 in c:\\users\\hp\\appdata\\roaming\\python\\python37\\site-packages (from scikit-learn->bert-extractive-summarizer) (1.18.5)\n",
      "Requirement already satisfied: tqdm<5.0.0,>=4.10.0 in c:\\users\\hp\\anaconda3\\lib\\site-packages (from thinc<7.2.0,>=7.1.1->spacy->bert-extractive-summarizer) (4.31.1)\n",
      "Requirement already satisfied: pyparsing>=2.0.2 in c:\\users\\hp\\anaconda3\\lib\\site-packages (from packaging->transformers->bert-extractive-summarizer) (2.3.1)\n",
      "Requirement already satisfied: six in c:\\users\\hp\\anaconda3\\lib\\site-packages (from packaging->transformers->bert-extractive-summarizer) (1.15.0)\n",
      "Collecting regex!=2019.12.17\n",
      "  Downloading regex-2020.11.13-cp37-cp37m-win_amd64.whl (269 kB)\n",
      "Collecting sacremoses\n",
      "  Downloading sacremoses-0.0.43.tar.gz (883 kB)\n",
      "Requirement already satisfied: six in c:\\users\\hp\\anaconda3\\lib\\site-packages (from packaging->transformers->bert-extractive-summarizer) (1.15.0)\n",
      "Requirement already satisfied: click in c:\\users\\hp\\anaconda3\\lib\\site-packages (from sacremoses->transformers->bert-extractive-summarizer) (7.0)\n",
      "Requirement already satisfied: tqdm<5.0.0,>=4.10.0 in c:\\users\\hp\\anaconda3\\lib\\site-packages (from thinc<7.2.0,>=7.1.1->spacy->bert-extractive-summarizer) (4.31.1)\n",
      "Collecting joblib\n",
      "  Downloading joblib-1.0.0-py3-none-any.whl (302 kB)\n",
      "Collecting tokenizers==0.9.4\n",
      "  Downloading tokenizers-0.9.4-cp37-cp37m-win_amd64.whl (1.9 MB)\n",
      "Building wheels for collected packages: sacremoses\n",
      "  Building wheel for sacremoses (setup.py): started\n",
      "  Building wheel for sacremoses (setup.py): finished with status 'done'\n",
      "  Created wheel for sacremoses: filename=sacremoses-0.0.43-py3-none-any.whl size=893261 sha256=f632ea70471d285fd4a32d3f63f15899aa2c9e8ec0238946727eb9f6a9fbff9c\n",
      "  Stored in directory: c:\\users\\hp\\appdata\\local\\pip\\cache\\wheels\\69\\09\\d1\\bf058f7d6fa0ecba2ce7c66be3b8d012beb4bf61a6e0c101c0\n",
      "Successfully built sacremoses\n",
      "Installing collected packages: regex, joblib, tokenizers, sacremoses, transformers, bert-extractive-summarizer\n",
      "Successfully installed bert-extractive-summarizer-0.5.2 joblib-1.0.0 regex-2020.11.13 sacremoses-0.0.43 tokenizers-0.9.4 transformers-4.1.1\n"
     ]
    },
    {
     "name": "stderr",
     "output_type": "stream",
     "text": [
      "WARNING: You are using pip version 20.3.1; however, version 20.3.3 is available.\n",
      "You should consider upgrading via the 'c:\\users\\hp\\anaconda3\\pythonw.exe -m pip install --upgrade pip' command.\n"
     ]
    }
   ],
   "source": [
    "!pip install bert-extractive-summarizer"
   ]
  },
  {
   "cell_type": "code",
   "execution_count": 2,
   "metadata": {},
   "outputs": [
    {
     "name": "stdout",
     "output_type": "stream",
     "text": [
      "Collecting transformers==2.2.0\n",
      "  Downloading transformers-2.2.0-py3-none-any.whl (360 kB)\n",
      "Requirement already satisfied: sacremoses in c:\\users\\hp\\anaconda3\\lib\\site-packages (from transformers==2.2.0) (0.0.43)\n",
      "Requirement already satisfied: tqdm in c:\\users\\hp\\anaconda3\\lib\\site-packages (from transformers==2.2.0) (4.31.1)\n",
      "Requirement already satisfied: requests in c:\\users\\hp\\anaconda3\\lib\\site-packages (from transformers==2.2.0) (2.21.0)\n",
      "Requirement already satisfied: regex in c:\\users\\hp\\anaconda3\\lib\\site-packages (from transformers==2.2.0) (2020.11.13)\n",
      "Requirement already satisfied: numpy in c:\\users\\hp\\appdata\\roaming\\python\\python37\\site-packages (from transformers==2.2.0) (1.18.5)\n",
      "Collecting boto3\n",
      "  Downloading boto3-1.16.43-py2.py3-none-any.whl (130 kB)\n",
      "Requirement already satisfied: jmespath<1.0.0,>=0.7.1 in c:\\users\\hp\\anaconda3\\lib\\site-packages (from boto3->transformers==2.2.0) (0.10.0)\n",
      "Requirement already satisfied: s3transfer<0.4.0,>=0.3.0 in c:\\users\\hp\\anaconda3\\lib\\site-packages (from boto3->transformers==2.2.0) (0.3.3)\n",
      "Collecting botocore<1.20.0,>=1.19.43\n",
      "  Downloading botocore-1.19.43-py2.py3-none-any.whl (7.2 MB)\n",
      "Requirement already satisfied: jmespath<1.0.0,>=0.7.1 in c:\\users\\hp\\anaconda3\\lib\\site-packages (from boto3->transformers==2.2.0) (0.10.0)\n",
      "Requirement already satisfied: python-dateutil<3.0.0,>=2.1 in c:\\users\\hp\\anaconda3\\lib\\site-packages (from botocore<1.20.0,>=1.19.43->boto3->transformers==2.2.0) (2.7.5)\n",
      "Requirement already satisfied: six>=1.5 in c:\\users\\hp\\anaconda3\\lib\\site-packages (from python-dateutil<3.0.0,>=2.1->botocore<1.20.0,>=1.19.43->boto3->transformers==2.2.0) (1.15.0)\n",
      "Requirement already satisfied: chardet<3.1.0,>=3.0.2 in c:\\users\\hp\\anaconda3\\lib\\site-packages (from requests->transformers==2.2.0) (3.0.4)\n",
      "Requirement already satisfied: idna<2.9,>=2.5 in c:\\users\\hp\\anaconda3\\lib\\site-packages (from requests->transformers==2.2.0) (2.8)\n",
      "Collecting requests\n",
      "  Downloading requests-2.25.1-py2.py3-none-any.whl (61 kB)\n",
      "Requirement already satisfied: certifi>=2017.4.17 in c:\\users\\hp\\anaconda3\\lib\\site-packages (from requests->transformers==2.2.0) (2020.6.20)\n",
      "Requirement already satisfied: idna<3,>=2.5 in c:\\users\\hp\\anaconda3\\lib\\site-packages (from requests->transformers==2.2.0) (2.8)\n",
      "Requirement already satisfied: chardet<5,>=3.0.2 in c:\\users\\hp\\anaconda3\\lib\\site-packages (from requests->transformers==2.2.0) (3.0.4)\n",
      "Requirement already satisfied: six>=1.5 in c:\\users\\hp\\anaconda3\\lib\\site-packages (from python-dateutil<3.0.0,>=2.1->botocore<1.20.0,>=1.19.43->boto3->transformers==2.2.0) (1.15.0)\n",
      "Requirement already satisfied: click in c:\\users\\hp\\anaconda3\\lib\\site-packages (from sacremoses->transformers==2.2.0) (7.0)\n",
      "Requirement already satisfied: joblib in c:\\users\\hp\\anaconda3\\lib\\site-packages (from sacremoses->transformers==2.2.0) (1.0.0)\n",
      "Requirement already satisfied: tqdm in c:\\users\\hp\\anaconda3\\lib\\site-packages (from transformers==2.2.0) (4.31.1)\n",
      "Requirement already satisfied: regex in c:\\users\\hp\\anaconda3\\lib\\site-packages (from transformers==2.2.0) (2020.11.13)\n",
      "Collecting sentencepiece\n",
      "  Downloading sentencepiece-0.1.94-cp37-cp37m-win_amd64.whl (1.2 MB)\n",
      "Collecting urllib3<1.27,>=1.25.4\n",
      "  Using cached urllib3-1.26.2-py2.py3-none-any.whl (136 kB)\n",
      "Installing collected packages: urllib3, botocore, sentencepiece, requests, boto3, transformers\n",
      "  Attempting uninstall: urllib3\n",
      "    Found existing installation: urllib3 1.24.3\n",
      "    Uninstalling urllib3-1.24.3:\n",
      "      Successfully uninstalled urllib3-1.24.3\n",
      "  Attempting uninstall: botocore\n",
      "    Found existing installation: botocore 1.19.29\n",
      "    Uninstalling botocore-1.19.29:\n",
      "      Successfully uninstalled botocore-1.19.29\n",
      "  Attempting uninstall: requests\n",
      "    Found existing installation: requests 2.21.0\n",
      "    Uninstalling requests-2.21.0:\n",
      "      Successfully uninstalled requests-2.21.0\n",
      "  Attempting uninstall: transformers\n",
      "    Found existing installation: transformers 4.1.1\n",
      "    Uninstalling transformers-4.1.1:\n",
      "      Successfully uninstalled transformers-4.1.1\n",
      "Successfully installed boto3-1.16.43 botocore-1.19.43 requests-2.25.1 sentencepiece-0.1.94 transformers-2.2.0 urllib3-1.26.2\n"
     ]
    },
    {
     "name": "stderr",
     "output_type": "stream",
     "text": [
      "ERROR: pip's dependency resolver does not currently take into account all the packages that are installed. This behaviour is the source of the following dependency conflicts.\n",
      "awscli 1.18.189 requires botocore==1.19.29, but you have botocore 1.19.43 which is incompatible.\n",
      "WARNING: You are using pip version 20.3.1; however, version 20.3.3 is available.\n",
      "You should consider upgrading via the 'c:\\users\\hp\\anaconda3\\pythonw.exe -m pip install --upgrade pip' command.\n"
     ]
    }
   ],
   "source": [
    "!pip install transformers==2.2.0"
   ]
  },
  {
   "cell_type": "code",
   "execution_count": null,
   "metadata": {},
   "outputs": [],
   "source": [
    "!pip install spacy==2.0.12"
   ]
  },
  {
   "cell_type": "code",
   "execution_count": null,
   "metadata": {},
   "outputs": [],
   "source": [
    "from summarizer import Summarizer,TransformerSummarizer"
   ]
  },
  {
   "cell_type": "code",
   "execution_count": null,
   "metadata": {},
   "outputs": [],
   "source": [
    "body = ''' The original GPT model was introduced in the June 11, 2018 publication of OpenAI's paper \"Improving Language Understanding by Generative Pre-Training\".[9] The generative pre-trained transformer, as its name suggests, was a generative model that could be pre-trained using an enormous corpus of text; the paper described the process of \"generative pre-training of a language model on a diverse corpus of unlabeled text, followed by discriminative fine-tuning on each specific task\".[9] The choice of an unsupervised model allowed for very large amounts of work to be done without the expensive and time-consuming task of human labeling.\n",
    "\n",
    "GPT-2 was created as a direct scale-up of GPT, with both its parameter count and dataset size increased by a factor of 10.[7][9][8] Both are unsupervised transformer models trained to generate text by predicting the next word in a sequence of tokens. The GPT-2 model has 1.5 billion parameters, and was trained on a dataset of 8 million web pages.[7] While its objective is simple (interpreting a sequence of words in a text sample and predicting the most likely next word), GPT-2 can produce full sentences and paragraphs by continuing to predict additional words, which constitute fully comprehensible (and semantically meaningful) statements in natural language.[7]\n",
    "\n",
    "Due to the broadness of its dataset, and the broadness of its approach, GPT-2 became capable of performing well in a diverse range of tasks beyond simple text generation: GPT-2 is capable of answering questions, summarizing, and even translating between languages in a variety of specific domains without being instructed in anything beyond how to predict the next word in a sequence.  '''"
   ]
  },
  {
   "cell_type": "code",
   "execution_count": null,
   "metadata": {},
   "outputs": [],
   "source": [
    "bert_model = Summarizer()\n",
    "bert_summary = ''.join(bert_model(body, min_length=60))\n",
    "print(bert_summary)"
   ]
  },
  {
   "cell_type": "code",
   "execution_count": null,
   "metadata": {},
   "outputs": [],
   "source": [
    "GPT2_model = TransformerSummarizer(transformer_type=\"GPT2\",transformer_model_key=\"gpt2-medium\")\n",
    "full = ''.join(GPT2_model(body, min_length=60))\n",
    "print(full)"
   ]
  },
  {
   "cell_type": "code",
   "execution_count": null,
   "metadata": {},
   "outputs": [],
   "source": [
    "model = TransformerSummarizer(transformer_type=\"XLNet\",transformer_model_key=\"xlnet-base-cased\")\n",
    "full = ''.join(model(body, min_length=60))\n",
    "print(full)"
   ]
  },
  {
   "cell_type": "code",
   "execution_count": null,
   "metadata": {},
   "outputs": [],
   "source": []
  }
 ],
 "metadata": {
  "kernelspec": {
   "display_name": "Python 3",
   "language": "python",
   "name": "python3"
  },
  "language_info": {
   "codemirror_mode": {
    "name": "ipython",
    "version": 3
   },
   "file_extension": ".py",
   "mimetype": "text/x-python",
   "name": "python",
   "nbconvert_exporter": "python",
   "pygments_lexer": "ipython3",
   "version": "3.7.3"
  }
 },
 "nbformat": 4,
 "nbformat_minor": 2
}
